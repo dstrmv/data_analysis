{
 "cells": [
  {
   "cell_type": "code",
   "execution_count": 104,
   "metadata": {
    "collapsed": true
   },
   "outputs": [
    {
     "data": {
      "text/plain": "             datetime          ticker  per      open      high       low  \\\n0 2018-09-03 10:01:00  SPFB.RTS-12.18    1  107900.0  108060.0  107900.0   \n1 2018-09-03 10:02:00  SPFB.RTS-12.18    1  107960.0  107960.0  107960.0   \n2 2018-09-03 10:04:00  SPFB.RTS-12.18    1  108000.0  108000.0  108000.0   \n3 2018-09-03 10:05:00  SPFB.RTS-12.18    1  108000.0  108000.0  108000.0   \n4 2018-09-03 10:08:00  SPFB.RTS-12.18    1  108080.0  108080.0  108080.0   \n\n      close  vol  \n0  108030.0    3  \n1  107960.0    5  \n2  108000.0    8  \n3  108000.0    1  \n4  108080.0    1  ",
      "text/html": "<div>\n<style scoped>\n    .dataframe tbody tr th:only-of-type {\n        vertical-align: middle;\n    }\n\n    .dataframe tbody tr th {\n        vertical-align: top;\n    }\n\n    .dataframe thead th {\n        text-align: right;\n    }\n</style>\n<table border=\"1\" class=\"dataframe\">\n  <thead>\n    <tr style=\"text-align: right;\">\n      <th></th>\n      <th>datetime</th>\n      <th>ticker</th>\n      <th>per</th>\n      <th>open</th>\n      <th>high</th>\n      <th>low</th>\n      <th>close</th>\n      <th>vol</th>\n    </tr>\n  </thead>\n  <tbody>\n    <tr>\n      <th>0</th>\n      <td>2018-09-03 10:01:00</td>\n      <td>SPFB.RTS-12.18</td>\n      <td>1</td>\n      <td>107900.0</td>\n      <td>108060.0</td>\n      <td>107900.0</td>\n      <td>108030.0</td>\n      <td>3</td>\n    </tr>\n    <tr>\n      <th>1</th>\n      <td>2018-09-03 10:02:00</td>\n      <td>SPFB.RTS-12.18</td>\n      <td>1</td>\n      <td>107960.0</td>\n      <td>107960.0</td>\n      <td>107960.0</td>\n      <td>107960.0</td>\n      <td>5</td>\n    </tr>\n    <tr>\n      <th>2</th>\n      <td>2018-09-03 10:04:00</td>\n      <td>SPFB.RTS-12.18</td>\n      <td>1</td>\n      <td>108000.0</td>\n      <td>108000.0</td>\n      <td>108000.0</td>\n      <td>108000.0</td>\n      <td>8</td>\n    </tr>\n    <tr>\n      <th>3</th>\n      <td>2018-09-03 10:05:00</td>\n      <td>SPFB.RTS-12.18</td>\n      <td>1</td>\n      <td>108000.0</td>\n      <td>108000.0</td>\n      <td>108000.0</td>\n      <td>108000.0</td>\n      <td>1</td>\n    </tr>\n    <tr>\n      <th>4</th>\n      <td>2018-09-03 10:08:00</td>\n      <td>SPFB.RTS-12.18</td>\n      <td>1</td>\n      <td>108080.0</td>\n      <td>108080.0</td>\n      <td>108080.0</td>\n      <td>108080.0</td>\n      <td>1</td>\n    </tr>\n  </tbody>\n</table>\n</div>"
     },
     "execution_count": 104,
     "metadata": {},
     "output_type": "execute_result"
    }
   ],
   "source": [
    "import pandas as pd\n",
    "import datetime\n",
    "\n",
    "original_columns = ['<TICKER>', '<PER>', '<DATE>', '<TIME>', '<OPEN>', '<HIGH>', '<LOW>', '<CLOSE>', '<VOL>']\n",
    "replace_columns = ['ticker', 'per', 'date', 'time', 'open', 'high', 'low', 'close', 'vol']\n",
    "\n",
    "csv_path = \"data/2_1/SPFB.RTS-12.18_180901_181231.csv\"\n",
    "\n",
    "data = pd.read_csv(csv_path, sep=';', names=replace_columns,\n",
    "                   header=0,\n",
    "                   parse_dates={'datetime': ['date', 'time']},\n",
    "                   dayfirst=True)\n",
    "\n",
    "data.head()"
   ]
  },
  {
   "cell_type": "code",
   "execution_count": 105,
   "outputs": [
    {
     "data": {
      "text/plain": "             datetime          ticker  per      open      high       low  \\\n0 2018-09-03 10:01:00  SPFB.RTS-12.18    1  107900.0  108060.0  107900.0   \n1 2018-09-03 10:02:00  SPFB.RTS-12.18    1  107960.0  107960.0  107960.0   \n2 2018-09-03 10:04:00  SPFB.RTS-12.18    1  108000.0  108000.0  108000.0   \n3 2018-09-03 10:05:00  SPFB.RTS-12.18    1  108000.0  108000.0  108000.0   \n4 2018-09-03 10:08:00  SPFB.RTS-12.18    1  108080.0  108080.0  108080.0   \n\n      close  vol day_of_week  \n0  108030.0    3      Monday  \n1  107960.0    5      Monday  \n2  108000.0    8      Monday  \n3  108000.0    1      Monday  \n4  108080.0    1      Monday  ",
      "text/html": "<div>\n<style scoped>\n    .dataframe tbody tr th:only-of-type {\n        vertical-align: middle;\n    }\n\n    .dataframe tbody tr th {\n        vertical-align: top;\n    }\n\n    .dataframe thead th {\n        text-align: right;\n    }\n</style>\n<table border=\"1\" class=\"dataframe\">\n  <thead>\n    <tr style=\"text-align: right;\">\n      <th></th>\n      <th>datetime</th>\n      <th>ticker</th>\n      <th>per</th>\n      <th>open</th>\n      <th>high</th>\n      <th>low</th>\n      <th>close</th>\n      <th>vol</th>\n      <th>day_of_week</th>\n    </tr>\n  </thead>\n  <tbody>\n    <tr>\n      <th>0</th>\n      <td>2018-09-03 10:01:00</td>\n      <td>SPFB.RTS-12.18</td>\n      <td>1</td>\n      <td>107900.0</td>\n      <td>108060.0</td>\n      <td>107900.0</td>\n      <td>108030.0</td>\n      <td>3</td>\n      <td>Monday</td>\n    </tr>\n    <tr>\n      <th>1</th>\n      <td>2018-09-03 10:02:00</td>\n      <td>SPFB.RTS-12.18</td>\n      <td>1</td>\n      <td>107960.0</td>\n      <td>107960.0</td>\n      <td>107960.0</td>\n      <td>107960.0</td>\n      <td>5</td>\n      <td>Monday</td>\n    </tr>\n    <tr>\n      <th>2</th>\n      <td>2018-09-03 10:04:00</td>\n      <td>SPFB.RTS-12.18</td>\n      <td>1</td>\n      <td>108000.0</td>\n      <td>108000.0</td>\n      <td>108000.0</td>\n      <td>108000.0</td>\n      <td>8</td>\n      <td>Monday</td>\n    </tr>\n    <tr>\n      <th>3</th>\n      <td>2018-09-03 10:05:00</td>\n      <td>SPFB.RTS-12.18</td>\n      <td>1</td>\n      <td>108000.0</td>\n      <td>108000.0</td>\n      <td>108000.0</td>\n      <td>108000.0</td>\n      <td>1</td>\n      <td>Monday</td>\n    </tr>\n    <tr>\n      <th>4</th>\n      <td>2018-09-03 10:08:00</td>\n      <td>SPFB.RTS-12.18</td>\n      <td>1</td>\n      <td>108080.0</td>\n      <td>108080.0</td>\n      <td>108080.0</td>\n      <td>108080.0</td>\n      <td>1</td>\n      <td>Monday</td>\n    </tr>\n  </tbody>\n</table>\n</div>"
     },
     "execution_count": 105,
     "metadata": {},
     "output_type": "execute_result"
    }
   ],
   "source": [
    "data['day_of_week'] = data['datetime'].dt.day_name()\n",
    "data.head()"
   ],
   "metadata": {
    "collapsed": false,
    "pycharm": {
     "name": "#%%\n"
    }
   }
  },
  {
   "cell_type": "code",
   "execution_count": 106,
   "outputs": [
    {
     "data": {
      "text/plain": "             datetime          ticker  per      open      high       low  \\\n0 2018-09-03 10:01:00  SPFB.RTS-12.18    1  107900.0  108060.0  107900.0   \n1 2018-09-03 10:02:00  SPFB.RTS-12.18    1  107960.0  107960.0  107960.0   \n2 2018-09-03 10:04:00  SPFB.RTS-12.18    1  108000.0  108000.0  108000.0   \n3 2018-09-03 10:05:00  SPFB.RTS-12.18    1  108000.0  108000.0  108000.0   \n4 2018-09-03 10:08:00  SPFB.RTS-12.18    1  108080.0  108080.0  108080.0   \n\n      close  vol day_of_week  avg_price  \n0  108030.0    3      Monday   107972.5  \n1  107960.0    5      Monday   107960.0  \n2  108000.0    8      Monday   108000.0  \n3  108000.0    1      Monday   108000.0  \n4  108080.0    1      Monday   108080.0  ",
      "text/html": "<div>\n<style scoped>\n    .dataframe tbody tr th:only-of-type {\n        vertical-align: middle;\n    }\n\n    .dataframe tbody tr th {\n        vertical-align: top;\n    }\n\n    .dataframe thead th {\n        text-align: right;\n    }\n</style>\n<table border=\"1\" class=\"dataframe\">\n  <thead>\n    <tr style=\"text-align: right;\">\n      <th></th>\n      <th>datetime</th>\n      <th>ticker</th>\n      <th>per</th>\n      <th>open</th>\n      <th>high</th>\n      <th>low</th>\n      <th>close</th>\n      <th>vol</th>\n      <th>day_of_week</th>\n      <th>avg_price</th>\n    </tr>\n  </thead>\n  <tbody>\n    <tr>\n      <th>0</th>\n      <td>2018-09-03 10:01:00</td>\n      <td>SPFB.RTS-12.18</td>\n      <td>1</td>\n      <td>107900.0</td>\n      <td>108060.0</td>\n      <td>107900.0</td>\n      <td>108030.0</td>\n      <td>3</td>\n      <td>Monday</td>\n      <td>107972.5</td>\n    </tr>\n    <tr>\n      <th>1</th>\n      <td>2018-09-03 10:02:00</td>\n      <td>SPFB.RTS-12.18</td>\n      <td>1</td>\n      <td>107960.0</td>\n      <td>107960.0</td>\n      <td>107960.0</td>\n      <td>107960.0</td>\n      <td>5</td>\n      <td>Monday</td>\n      <td>107960.0</td>\n    </tr>\n    <tr>\n      <th>2</th>\n      <td>2018-09-03 10:04:00</td>\n      <td>SPFB.RTS-12.18</td>\n      <td>1</td>\n      <td>108000.0</td>\n      <td>108000.0</td>\n      <td>108000.0</td>\n      <td>108000.0</td>\n      <td>8</td>\n      <td>Monday</td>\n      <td>108000.0</td>\n    </tr>\n    <tr>\n      <th>3</th>\n      <td>2018-09-03 10:05:00</td>\n      <td>SPFB.RTS-12.18</td>\n      <td>1</td>\n      <td>108000.0</td>\n      <td>108000.0</td>\n      <td>108000.0</td>\n      <td>108000.0</td>\n      <td>1</td>\n      <td>Monday</td>\n      <td>108000.0</td>\n    </tr>\n    <tr>\n      <th>4</th>\n      <td>2018-09-03 10:08:00</td>\n      <td>SPFB.RTS-12.18</td>\n      <td>1</td>\n      <td>108080.0</td>\n      <td>108080.0</td>\n      <td>108080.0</td>\n      <td>108080.0</td>\n      <td>1</td>\n      <td>Monday</td>\n      <td>108080.0</td>\n    </tr>\n  </tbody>\n</table>\n</div>"
     },
     "execution_count": 106,
     "metadata": {},
     "output_type": "execute_result"
    }
   ],
   "source": [
    "data['avg_price'] = data[['open', 'high', 'low', 'close']].mean(axis=1)\n",
    "data.head()"
   ],
   "metadata": {
    "collapsed": false,
    "pycharm": {
     "name": "#%%\n"
    }
   }
  },
  {
   "cell_type": "code",
   "execution_count": 107,
   "outputs": [
    {
     "data": {
      "text/plain": "             datetime          ticker  per      open      high       low  \\\n0 2018-09-03 10:01:00  SPFB.RTS-12.18    1  107900.0  108060.0  107900.0   \n1 2018-09-03 10:02:00  SPFB.RTS-12.18    1  107960.0  107960.0  107960.0   \n2 2018-09-03 10:04:00  SPFB.RTS-12.18    1  108000.0  108000.0  108000.0   \n3 2018-09-03 10:05:00  SPFB.RTS-12.18    1  108000.0  108000.0  108000.0   \n4 2018-09-03 10:08:00  SPFB.RTS-12.18    1  108080.0  108080.0  108080.0   \n\n      close  vol day_of_week  avg_price     total  \n0  108030.0    3      Monday   107972.5  323917.5  \n1  107960.0    5      Monday   107960.0  539800.0  \n2  108000.0    8      Monday   108000.0  864000.0  \n3  108000.0    1      Monday   108000.0  108000.0  \n4  108080.0    1      Monday   108080.0  108080.0  ",
      "text/html": "<div>\n<style scoped>\n    .dataframe tbody tr th:only-of-type {\n        vertical-align: middle;\n    }\n\n    .dataframe tbody tr th {\n        vertical-align: top;\n    }\n\n    .dataframe thead th {\n        text-align: right;\n    }\n</style>\n<table border=\"1\" class=\"dataframe\">\n  <thead>\n    <tr style=\"text-align: right;\">\n      <th></th>\n      <th>datetime</th>\n      <th>ticker</th>\n      <th>per</th>\n      <th>open</th>\n      <th>high</th>\n      <th>low</th>\n      <th>close</th>\n      <th>vol</th>\n      <th>day_of_week</th>\n      <th>avg_price</th>\n      <th>total</th>\n    </tr>\n  </thead>\n  <tbody>\n    <tr>\n      <th>0</th>\n      <td>2018-09-03 10:01:00</td>\n      <td>SPFB.RTS-12.18</td>\n      <td>1</td>\n      <td>107900.0</td>\n      <td>108060.0</td>\n      <td>107900.0</td>\n      <td>108030.0</td>\n      <td>3</td>\n      <td>Monday</td>\n      <td>107972.5</td>\n      <td>323917.5</td>\n    </tr>\n    <tr>\n      <th>1</th>\n      <td>2018-09-03 10:02:00</td>\n      <td>SPFB.RTS-12.18</td>\n      <td>1</td>\n      <td>107960.0</td>\n      <td>107960.0</td>\n      <td>107960.0</td>\n      <td>107960.0</td>\n      <td>5</td>\n      <td>Monday</td>\n      <td>107960.0</td>\n      <td>539800.0</td>\n    </tr>\n    <tr>\n      <th>2</th>\n      <td>2018-09-03 10:04:00</td>\n      <td>SPFB.RTS-12.18</td>\n      <td>1</td>\n      <td>108000.0</td>\n      <td>108000.0</td>\n      <td>108000.0</td>\n      <td>108000.0</td>\n      <td>8</td>\n      <td>Monday</td>\n      <td>108000.0</td>\n      <td>864000.0</td>\n    </tr>\n    <tr>\n      <th>3</th>\n      <td>2018-09-03 10:05:00</td>\n      <td>SPFB.RTS-12.18</td>\n      <td>1</td>\n      <td>108000.0</td>\n      <td>108000.0</td>\n      <td>108000.0</td>\n      <td>108000.0</td>\n      <td>1</td>\n      <td>Monday</td>\n      <td>108000.0</td>\n      <td>108000.0</td>\n    </tr>\n    <tr>\n      <th>4</th>\n      <td>2018-09-03 10:08:00</td>\n      <td>SPFB.RTS-12.18</td>\n      <td>1</td>\n      <td>108080.0</td>\n      <td>108080.0</td>\n      <td>108080.0</td>\n      <td>108080.0</td>\n      <td>1</td>\n      <td>Monday</td>\n      <td>108080.0</td>\n      <td>108080.0</td>\n    </tr>\n  </tbody>\n</table>\n</div>"
     },
     "execution_count": 107,
     "metadata": {},
     "output_type": "execute_result"
    }
   ],
   "source": [
    "data['total'] = data['avg_price'] * data['vol']\n",
    "data.head()"
   ],
   "metadata": {
    "collapsed": false,
    "pycharm": {
     "name": "#%%\n"
    }
   }
  },
  {
   "cell_type": "code",
   "execution_count": 110,
   "outputs": [
    {
     "data": {
      "text/plain": "71772558882.5"
     },
     "execution_count": 110,
     "metadata": {},
     "output_type": "execute_result"
    }
   ],
   "source": [
    "# 2_1_1:\n",
    "\n",
    "data[(data['datetime'].dt.date == datetime.date(2018, 11, 29))].total.sum()"
   ],
   "metadata": {
    "collapsed": false,
    "pycharm": {
     "name": "#%%\n"
    }
   }
  },
  {
   "cell_type": "code",
   "execution_count": null,
   "outputs": [],
   "source": [
    "# 2_1_2"
   ],
   "metadata": {
    "collapsed": false,
    "pycharm": {
     "name": "#%%\n"
    }
   }
  }
 ],
 "metadata": {
  "kernelspec": {
   "name": "pycharm-9b18c182",
   "language": "python",
   "display_name": "PyCharm (data_analysis)"
  },
  "language_info": {
   "codemirror_mode": {
    "name": "ipython",
    "version": 2
   },
   "file_extension": ".py",
   "mimetype": "text/x-python",
   "name": "python",
   "nbconvert_exporter": "python",
   "pygments_lexer": "ipython2",
   "version": "2.7.6"
  }
 },
 "nbformat": 4,
 "nbformat_minor": 0
}