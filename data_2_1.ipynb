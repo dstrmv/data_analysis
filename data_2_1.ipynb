{
 "cells": [
  {
   "cell_type": "code",
   "execution_count": 4,
   "metadata": {
    "collapsed": true
   },
   "outputs": [
    {
     "name": "stdout",
     "output_type": "stream",
     "text": [
      "         <TICKER>  <PER>    <DATE> <TIME>    <OPEN>    <HIGH>     <LOW>  \\\n",
      "0  SPFB.RTS-12.18      1  03/09/18  10:01  107900.0  108060.0  107900.0   \n",
      "1  SPFB.RTS-12.18      1  03/09/18  10:02  107960.0  107960.0  107960.0   \n",
      "2  SPFB.RTS-12.18      1  03/09/18  10:04  108000.0  108000.0  108000.0   \n",
      "3  SPFB.RTS-12.18      1  03/09/18  10:05  108000.0  108000.0  108000.0   \n",
      "4  SPFB.RTS-12.18      1  03/09/18  10:08  108080.0  108080.0  108080.0   \n",
      "\n",
      "    <CLOSE>  <VOL>  \n",
      "0  108030.0      3  \n",
      "1  107960.0      5  \n",
      "2  108000.0      8  \n",
      "3  108000.0      1  \n",
      "4  108080.0      1  \n"
     ]
    }
   ],
   "source": [
    "import pandas as pd\n",
    "\n",
    "csv_path = \"data/2_1/SPFB.RTS-12.18_180901_181231.csv\"\n",
    "data = pd.read_csv(csv_path, sep=';')\n",
    "\n",
    "print(data.head())\n",
    "\n"
   ]
  }
 ],
 "metadata": {
  "kernelspec": {
   "name": "pycharm-9b18c182",
   "language": "python",
   "display_name": "PyCharm (data_analysis)"
  },
  "language_info": {
   "codemirror_mode": {
    "name": "ipython",
    "version": 2
   },
   "file_extension": ".py",
   "mimetype": "text/x-python",
   "name": "python",
   "nbconvert_exporter": "python",
   "pygments_lexer": "ipython2",
   "version": "2.7.6"
  }
 },
 "nbformat": 4,
 "nbformat_minor": 0
}