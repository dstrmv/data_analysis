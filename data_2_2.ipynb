{
 "cells": [
  {
   "cell_type": "code",
   "execution_count": 37,
   "metadata": {
    "collapsed": true,
    "pycharm": {
     "name": "#%%\n"
    }
   },
   "outputs": [
    {
     "data": {
      "text/plain": "    LINE_TYPE  LINE  CAR\n0      SINGLE   500  490\n1      SINGLE   500  490\n2      SINGLE   500  490\n3      SINGLE   500  490\n4      SINGLE   500  490\n..        ...   ...  ...\n495    DOUBLE   130  120\n496    DOUBLE   131  121\n497    DOUBLE   132  122\n498    DOUBLE   133  123\n499    DOUBLE   134  124\n\n[500 rows x 3 columns]",
      "text/html": "<div>\n<style scoped>\n    .dataframe tbody tr th:only-of-type {\n        vertical-align: middle;\n    }\n\n    .dataframe tbody tr th {\n        vertical-align: top;\n    }\n\n    .dataframe thead th {\n        text-align: right;\n    }\n</style>\n<table border=\"1\" class=\"dataframe\">\n  <thead>\n    <tr style=\"text-align: right;\">\n      <th></th>\n      <th>LINE_TYPE</th>\n      <th>LINE</th>\n      <th>CAR</th>\n    </tr>\n  </thead>\n  <tbody>\n    <tr>\n      <th>0</th>\n      <td>SINGLE</td>\n      <td>500</td>\n      <td>490</td>\n    </tr>\n    <tr>\n      <th>1</th>\n      <td>SINGLE</td>\n      <td>500</td>\n      <td>490</td>\n    </tr>\n    <tr>\n      <th>2</th>\n      <td>SINGLE</td>\n      <td>500</td>\n      <td>490</td>\n    </tr>\n    <tr>\n      <th>3</th>\n      <td>SINGLE</td>\n      <td>500</td>\n      <td>490</td>\n    </tr>\n    <tr>\n      <th>4</th>\n      <td>SINGLE</td>\n      <td>500</td>\n      <td>490</td>\n    </tr>\n    <tr>\n      <th>...</th>\n      <td>...</td>\n      <td>...</td>\n      <td>...</td>\n    </tr>\n    <tr>\n      <th>495</th>\n      <td>DOUBLE</td>\n      <td>130</td>\n      <td>120</td>\n    </tr>\n    <tr>\n      <th>496</th>\n      <td>DOUBLE</td>\n      <td>131</td>\n      <td>121</td>\n    </tr>\n    <tr>\n      <th>497</th>\n      <td>DOUBLE</td>\n      <td>132</td>\n      <td>122</td>\n    </tr>\n    <tr>\n      <th>498</th>\n      <td>DOUBLE</td>\n      <td>133</td>\n      <td>123</td>\n    </tr>\n    <tr>\n      <th>499</th>\n      <td>DOUBLE</td>\n      <td>134</td>\n      <td>124</td>\n    </tr>\n  </tbody>\n</table>\n<p>500 rows × 3 columns</p>\n</div>"
     },
     "execution_count": 37,
     "metadata": {},
     "output_type": "execute_result"
    }
   ],
   "source": [
    "import pandas as pd\n",
    "import numpy as np\n",
    "import matplotlib.pyplot as plt\n",
    "\n",
    "csv_path = \"data/2_2/car.csv\"\n",
    "\n",
    "df = pd.read_csv(csv_path)\n",
    "\n",
    "df"
   ]
  },
  {
   "cell_type": "code",
   "execution_count": 45,
   "outputs": [
    {
     "data": {
      "text/plain": "array([350, 351, 352, 353, 354, 355, 356, 357, 358, 359, 360, 361, 362,\n       363, 364, 365, 366, 367, 368, 369, 370, 371, 372, 373, 374, 375,\n       376, 377, 378, 379, 380, 381, 382, 383, 384, 385, 386, 387, 388,\n       389, 390, 391, 392, 393, 394, 395, 396, 397, 398, 399, 400, 401,\n       402, 403, 404, 405, 406, 407, 408, 409, 410, 411, 412, 413, 414,\n       415, 416, 417, 418, 419, 420, 421, 422, 423, 424, 425, 426, 427,\n       428, 429, 430, 431, 432, 433, 434, 435, 436, 437, 438, 439, 440,\n       441, 442, 443, 444, 445, 446, 447, 448, 449, 450, 451, 452, 453,\n       454, 455, 456, 457, 458, 459, 460, 461, 462, 463, 464, 465, 466,\n       467, 468, 469, 470, 471, 472, 473, 474, 475, 476, 477, 478, 479,\n       480, 481, 482, 483, 484, 485, 486, 487, 488, 489, 490, 491, 492,\n       493, 494, 495, 496, 497, 498, 499], dtype=int64)"
     },
     "execution_count": 45,
     "metadata": {},
     "output_type": "execute_result"
    }
   ],
   "source": [
    "%matplotlib inline\n",
    "\n",
    "import seaborn as sns\n",
    "sns.set_context('notebook')\n",
    "sns.set_style('white')\n",
    "\n",
    "double = df[(df.LINE_TYPE == 'DOUBLE')]\n",
    "single = df[(df.LINE_TYPE == 'SINGLE')]\n",
    "inter = df[(df.LINE_TYPE == 'INTERRUPT')]"
   ],
   "metadata": {
    "collapsed": false,
    "pycharm": {
     "name": "#%%\n"
    }
   }
  },
  {
   "cell_type": "code",
   "execution_count": 62,
   "outputs": [
    {
     "data": {
      "text/plain": "<Figure size 432x288 with 1 Axes>",
      "image/png": "[encoded data removed]"
     },
     "metadata": {},
     "output_type": "display_data"
    }
   ],
   "source": [
    "plt.plot(single.index.to_numpy(), single.LINE, ',r', label='single')\n",
    "plt.plot(inter.index.to_numpy(), inter.LINE, ',g', label='interrupted')\n",
    "plt.plot(double.index.to_numpy(), double.LINE, ',b', label='double')\n",
    "plt.plot(df.CAR, label='car')\n",
    "\n",
    "plt.legend()\n",
    "\n",
    "plt.show()"
   ],
   "metadata": {
    "collapsed": false,
    "pycharm": {
     "name": "#%%\n"
    }
   }
  }
 ],
 "metadata": {
  "kernelspec": {
   "name": "pycharm-9b18c182",
   "language": "python",
   "display_name": "PyCharm (data_analysis)"
  },
  "language_info": {
   "codemirror_mode": {
    "name": "ipython",
    "version": 2
   },
   "file_extension": ".py",
   "mimetype": "text/x-python",
   "name": "python",
   "nbconvert_exporter": "python",
   "pygments_lexer": "ipython2",
   "version": "2.7.6"
  }
 },
 "nbformat": 4,
 "nbformat_minor": 0
}