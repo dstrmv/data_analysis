{
 "cells": [
  {
   "cell_type": "code",
   "execution_count": 40,
   "metadata": {
    "collapsed": true
   },
   "outputs": [],
   "source": [
    "import pandas as pd\n",
    "import numpy as np\n",
    "from sklearn import preprocessing\n",
    "import math"
   ]
  },
  {
   "cell_type": "code",
   "execution_count": 41,
   "outputs": [
    {
     "data": {
      "text/plain": "        guests     sells  rating\nrest                            \nA     0.654987  0.147967     0.1\nB     0.770889  0.696448     0.3\nC     0.485175  0.109846     0.5\nD     0.475741  0.785327     0.1\nE     0.349057  0.000000     0.6\nF     1.000000  0.503246     0.9\nG     0.235849  0.531644     0.7\nH     0.083558  0.126889     0.0\nI     0.206199  0.532137     0.7\nJ     0.204852  0.554484     0.6\nK     0.277628  0.407186     0.0\nL     0.212938  1.000000     0.4\nM     0.040431  0.966038     0.7\nN     0.274933  0.993548     1.0\nO     0.260108  0.267541     1.0\nP     0.537736  0.021284     0.6\nQ     0.141509  0.415664     0.6\nR     0.000000  0.119985     1.0\nS     0.142857  0.785182     0.2\nT     0.509434  0.287842     0.5",
      "text/html": "<div>\n<style scoped>\n    .dataframe tbody tr th:only-of-type {\n        vertical-align: middle;\n    }\n\n    .dataframe tbody tr th {\n        vertical-align: top;\n    }\n\n    .dataframe thead th {\n        text-align: right;\n    }\n</style>\n<table border=\"1\" class=\"dataframe\">\n  <thead>\n    <tr style=\"text-align: right;\">\n      <th></th>\n      <th>guests</th>\n      <th>sells</th>\n      <th>rating</th>\n    </tr>\n    <tr>\n      <th>rest</th>\n      <th></th>\n      <th></th>\n      <th></th>\n    </tr>\n  </thead>\n  <tbody>\n    <tr>\n      <th>A</th>\n      <td>0.654987</td>\n      <td>0.147967</td>\n      <td>0.1</td>\n    </tr>\n    <tr>\n      <th>B</th>\n      <td>0.770889</td>\n      <td>0.696448</td>\n      <td>0.3</td>\n    </tr>\n    <tr>\n      <th>C</th>\n      <td>0.485175</td>\n      <td>0.109846</td>\n      <td>0.5</td>\n    </tr>\n    <tr>\n      <th>D</th>\n      <td>0.475741</td>\n      <td>0.785327</td>\n      <td>0.1</td>\n    </tr>\n    <tr>\n      <th>E</th>\n      <td>0.349057</td>\n      <td>0.000000</td>\n      <td>0.6</td>\n    </tr>\n    <tr>\n      <th>F</th>\n      <td>1.000000</td>\n      <td>0.503246</td>\n      <td>0.9</td>\n    </tr>\n    <tr>\n      <th>G</th>\n      <td>0.235849</td>\n      <td>0.531644</td>\n      <td>0.7</td>\n    </tr>\n    <tr>\n      <th>H</th>\n      <td>0.083558</td>\n      <td>0.126889</td>\n      <td>0.0</td>\n    </tr>\n    <tr>\n      <th>I</th>\n      <td>0.206199</td>\n      <td>0.532137</td>\n      <td>0.7</td>\n    </tr>\n    <tr>\n      <th>J</th>\n      <td>0.204852</td>\n      <td>0.554484</td>\n      <td>0.6</td>\n    </tr>\n    <tr>\n      <th>K</th>\n      <td>0.277628</td>\n      <td>0.407186</td>\n      <td>0.0</td>\n    </tr>\n    <tr>\n      <th>L</th>\n      <td>0.212938</td>\n      <td>1.000000</td>\n      <td>0.4</td>\n    </tr>\n    <tr>\n      <th>M</th>\n      <td>0.040431</td>\n      <td>0.966038</td>\n      <td>0.7</td>\n    </tr>\n    <tr>\n      <th>N</th>\n      <td>0.274933</td>\n      <td>0.993548</td>\n      <td>1.0</td>\n    </tr>\n    <tr>\n      <th>O</th>\n      <td>0.260108</td>\n      <td>0.267541</td>\n      <td>1.0</td>\n    </tr>\n    <tr>\n      <th>P</th>\n      <td>0.537736</td>\n      <td>0.021284</td>\n      <td>0.6</td>\n    </tr>\n    <tr>\n      <th>Q</th>\n      <td>0.141509</td>\n      <td>0.415664</td>\n      <td>0.6</td>\n    </tr>\n    <tr>\n      <th>R</th>\n      <td>0.000000</td>\n      <td>0.119985</td>\n      <td>1.0</td>\n    </tr>\n    <tr>\n      <th>S</th>\n      <td>0.142857</td>\n      <td>0.785182</td>\n      <td>0.2</td>\n    </tr>\n    <tr>\n      <th>T</th>\n      <td>0.509434</td>\n      <td>0.287842</td>\n      <td>0.5</td>\n    </tr>\n  </tbody>\n</table>\n</div>"
     },
     "execution_count": 41,
     "metadata": {},
     "output_type": "execute_result"
    }
   ],
   "source": [
    "csv_path = \"data/final_test/rest.csv\"\n",
    "\n",
    "df = pd.read_csv(csv_path, sep=';')\n",
    "\n",
    "df = df.set_index('rest')\n",
    "\n",
    "scaler = preprocessing.MinMaxScaler()\n",
    "scaled = pd.DataFrame(scaler.fit_transform(df[['guests', 'sells', 'rating']].to_numpy()), index=df.index, columns=df.columns)\n",
    "# df[['guests_norm', 'sells_norm', 'rating_norm']] = x\n",
    "scaled"
   ],
   "metadata": {
    "collapsed": false,
    "pycharm": {
     "name": "#%%\n"
    }
   }
  },
  {
   "cell_type": "code",
   "execution_count": 47,
   "outputs": [
    {
     "data": {
      "text/plain": "        guests     sells  rating       sum\nrest                                      \nF     1.000000  0.503246     0.9  2.403246\nN     0.274933  0.993548     1.0  2.268480\nB     0.770889  0.696448     0.3  1.767337",
      "text/html": "<div>\n<style scoped>\n    .dataframe tbody tr th:only-of-type {\n        vertical-align: middle;\n    }\n\n    .dataframe tbody tr th {\n        vertical-align: top;\n    }\n\n    .dataframe thead th {\n        text-align: right;\n    }\n</style>\n<table border=\"1\" class=\"dataframe\">\n  <thead>\n    <tr style=\"text-align: right;\">\n      <th></th>\n      <th>guests</th>\n      <th>sells</th>\n      <th>rating</th>\n      <th>sum</th>\n    </tr>\n    <tr>\n      <th>rest</th>\n      <th></th>\n      <th></th>\n      <th></th>\n      <th></th>\n    </tr>\n  </thead>\n  <tbody>\n    <tr>\n      <th>F</th>\n      <td>1.000000</td>\n      <td>0.503246</td>\n      <td>0.9</td>\n      <td>2.403246</td>\n    </tr>\n    <tr>\n      <th>N</th>\n      <td>0.274933</td>\n      <td>0.993548</td>\n      <td>1.0</td>\n      <td>2.268480</td>\n    </tr>\n    <tr>\n      <th>B</th>\n      <td>0.770889</td>\n      <td>0.696448</td>\n      <td>0.3</td>\n      <td>1.767337</td>\n    </tr>\n  </tbody>\n</table>\n</div>"
     },
     "execution_count": 47,
     "metadata": {},
     "output_type": "execute_result"
    }
   ],
   "source": [
    "scaled['sum'] = scaled[['guests', 'sells', 'rating']].sum(axis=1)\n",
    "scaled.sort_values('sum', inplace=True, ascending=False)\n",
    "scaled.head(3)"
   ],
   "metadata": {
    "collapsed": false,
    "pycharm": {
     "name": "#%%\n"
    }
   }
  }
 ],
 "metadata": {
  "kernelspec": {
   "name": "pycharm-9b18c182",
   "language": "python",
   "display_name": "PyCharm (data_analysis)"
  },
  "language_info": {
   "codemirror_mode": {
    "name": "ipython",
    "version": 2
   },
   "file_extension": ".py",
   "mimetype": "text/x-python",
   "name": "python",
   "nbconvert_exporter": "python",
   "pygments_lexer": "ipython2",
   "version": "2.7.6"
  }
 },
 "nbformat": 4,
 "nbformat_minor": 0
}