{
 "cells": [
  {
   "cell_type": "code",
   "execution_count": 1,
   "metadata": {
    "collapsed": true
   },
   "outputs": [],
   "source": [
    "import pandas as pd\n",
    "import numpy as np\n",
    "from sklearn import preprocessing\n",
    "import math"
   ]
  },
  {
   "cell_type": "code",
   "execution_count": 2,
   "outputs": [
    {
     "data": {
      "text/plain": "    ID  DISTANCE  STOP_COUNT  COST\n0    1        25          11  23.5\n1    2        24          10  24.4\n2    3         6          10  28.0\n3    4         6           5  28.8\n4    5        22          12  26.2\n5    6        20          12  25.0\n6    7        19           2  19.2\n7    8        11          10  17.1\n8    9        17           9  28.0\n9   10        17           6  18.9\n10  11        17           7  22.0\n11  12         8           6  15.8\n12  13        14          12  18.2\n13  14        13           7  17.1\n14  15        20          10  16.0\n15  16        25           5  15.5\n16  17        24          11  27.3\n17  18        16          11  18.4\n18  19        14           6  20.8\n19  20        10           7  30.0",
      "text/html": "<div>\n<style scoped>\n    .dataframe tbody tr th:only-of-type {\n        vertical-align: middle;\n    }\n\n    .dataframe tbody tr th {\n        vertical-align: top;\n    }\n\n    .dataframe thead th {\n        text-align: right;\n    }\n</style>\n<table border=\"1\" class=\"dataframe\">\n  <thead>\n    <tr style=\"text-align: right;\">\n      <th></th>\n      <th>ID</th>\n      <th>DISTANCE</th>\n      <th>STOP_COUNT</th>\n      <th>COST</th>\n    </tr>\n  </thead>\n  <tbody>\n    <tr>\n      <th>0</th>\n      <td>1</td>\n      <td>25</td>\n      <td>11</td>\n      <td>23.5</td>\n    </tr>\n    <tr>\n      <th>1</th>\n      <td>2</td>\n      <td>24</td>\n      <td>10</td>\n      <td>24.4</td>\n    </tr>\n    <tr>\n      <th>2</th>\n      <td>3</td>\n      <td>6</td>\n      <td>10</td>\n      <td>28.0</td>\n    </tr>\n    <tr>\n      <th>3</th>\n      <td>4</td>\n      <td>6</td>\n      <td>5</td>\n      <td>28.8</td>\n    </tr>\n    <tr>\n      <th>4</th>\n      <td>5</td>\n      <td>22</td>\n      <td>12</td>\n      <td>26.2</td>\n    </tr>\n    <tr>\n      <th>5</th>\n      <td>6</td>\n      <td>20</td>\n      <td>12</td>\n      <td>25.0</td>\n    </tr>\n    <tr>\n      <th>6</th>\n      <td>7</td>\n      <td>19</td>\n      <td>2</td>\n      <td>19.2</td>\n    </tr>\n    <tr>\n      <th>7</th>\n      <td>8</td>\n      <td>11</td>\n      <td>10</td>\n      <td>17.1</td>\n    </tr>\n    <tr>\n      <th>8</th>\n      <td>9</td>\n      <td>17</td>\n      <td>9</td>\n      <td>28.0</td>\n    </tr>\n    <tr>\n      <th>9</th>\n      <td>10</td>\n      <td>17</td>\n      <td>6</td>\n      <td>18.9</td>\n    </tr>\n    <tr>\n      <th>10</th>\n      <td>11</td>\n      <td>17</td>\n      <td>7</td>\n      <td>22.0</td>\n    </tr>\n    <tr>\n      <th>11</th>\n      <td>12</td>\n      <td>8</td>\n      <td>6</td>\n      <td>15.8</td>\n    </tr>\n    <tr>\n      <th>12</th>\n      <td>13</td>\n      <td>14</td>\n      <td>12</td>\n      <td>18.2</td>\n    </tr>\n    <tr>\n      <th>13</th>\n      <td>14</td>\n      <td>13</td>\n      <td>7</td>\n      <td>17.1</td>\n    </tr>\n    <tr>\n      <th>14</th>\n      <td>15</td>\n      <td>20</td>\n      <td>10</td>\n      <td>16.0</td>\n    </tr>\n    <tr>\n      <th>15</th>\n      <td>16</td>\n      <td>25</td>\n      <td>5</td>\n      <td>15.5</td>\n    </tr>\n    <tr>\n      <th>16</th>\n      <td>17</td>\n      <td>24</td>\n      <td>11</td>\n      <td>27.3</td>\n    </tr>\n    <tr>\n      <th>17</th>\n      <td>18</td>\n      <td>16</td>\n      <td>11</td>\n      <td>18.4</td>\n    </tr>\n    <tr>\n      <th>18</th>\n      <td>19</td>\n      <td>14</td>\n      <td>6</td>\n      <td>20.8</td>\n    </tr>\n    <tr>\n      <th>19</th>\n      <td>20</td>\n      <td>10</td>\n      <td>7</td>\n      <td>30.0</td>\n    </tr>\n  </tbody>\n</table>\n</div>"
     },
     "execution_count": 2,
     "metadata": {},
     "output_type": "execute_result"
    }
   ],
   "source": [
    "csv_path = \"data/3_1/data.csv\"\n",
    "\n",
    "df = pd.read_csv(csv_path, sep=';')\n",
    "\n",
    "df"
   ],
   "metadata": {
    "collapsed": false,
    "pycharm": {
     "name": "#%%\n"
    }
   }
  },
  {
   "cell_type": "code",
   "execution_count": 3,
   "outputs": [],
   "source": [
    "min_dist = df.DISTANCE.min()\n",
    "min_stop = df.STOP_COUNT.min()\n",
    "min_cost = df.COST.min()"
   ],
   "metadata": {
    "collapsed": false,
    "pycharm": {
     "name": "#%%\n"
    }
   }
  },
  {
   "cell_type": "code",
   "execution_count": 4,
   "outputs": [
    {
     "data": {
      "text/plain": "    ID  DISTANCE  STOP_COUNT  COST  DISTANCE_EXP_NORM  STOP_COUNT_EXP_NORM  \\\n6    7        19           2  19.2           0.885441             0.000000   \n11  12         8           6  15.8           0.283469             0.864665   \n3    4         6           5  28.8           0.000000             0.776870   \n\n    COST_EXP_NORM       SUM  \n6        0.212356  1.097798  \n11       0.019169  1.167302  \n3        0.576018  1.352888  ",
      "text/html": "<div>\n<style scoped>\n    .dataframe tbody tr th:only-of-type {\n        vertical-align: middle;\n    }\n\n    .dataframe tbody tr th {\n        vertical-align: top;\n    }\n\n    .dataframe thead th {\n        text-align: right;\n    }\n</style>\n<table border=\"1\" class=\"dataframe\">\n  <thead>\n    <tr style=\"text-align: right;\">\n      <th></th>\n      <th>ID</th>\n      <th>DISTANCE</th>\n      <th>STOP_COUNT</th>\n      <th>COST</th>\n      <th>DISTANCE_EXP_NORM</th>\n      <th>STOP_COUNT_EXP_NORM</th>\n      <th>COST_EXP_NORM</th>\n      <th>SUM</th>\n    </tr>\n  </thead>\n  <tbody>\n    <tr>\n      <th>6</th>\n      <td>7</td>\n      <td>19</td>\n      <td>2</td>\n      <td>19.2</td>\n      <td>0.885441</td>\n      <td>0.000000</td>\n      <td>0.212356</td>\n      <td>1.097798</td>\n    </tr>\n    <tr>\n      <th>11</th>\n      <td>12</td>\n      <td>8</td>\n      <td>6</td>\n      <td>15.8</td>\n      <td>0.283469</td>\n      <td>0.864665</td>\n      <td>0.019169</td>\n      <td>1.167302</td>\n    </tr>\n    <tr>\n      <th>3</th>\n      <td>4</td>\n      <td>6</td>\n      <td>5</td>\n      <td>28.8</td>\n      <td>0.000000</td>\n      <td>0.776870</td>\n      <td>0.576018</td>\n      <td>1.352888</td>\n    </tr>\n  </tbody>\n</table>\n</div>"
     },
     "execution_count": 4,
     "metadata": {},
     "output_type": "execute_result"
    }
   ],
   "source": [
    "df['DISTANCE_EXP_NORM'] = df['DISTANCE'].apply(lambda x: 1.0 - math.exp(1.0 - x / min_dist))\n",
    "df['STOP_COUNT_EXP_NORM'] = df['STOP_COUNT'].apply(lambda x: 1.0 - math.exp(1.0 - x / min_stop))\n",
    "df['COST_EXP_NORM'] = df['COST'].apply(lambda x: 1.0 - math.exp(1.0 - x / min_cost))\n",
    "df['SUM'] = df[['DISTANCE_EXP_NORM', 'STOP_COUNT_EXP_NORM', 'COST_EXP_NORM']].sum(axis=1)\n",
    "df.sort_values('SUM', inplace=True)\n",
    "df.head(3)"
   ],
   "metadata": {
    "collapsed": false,
    "pycharm": {
     "name": "#%%\n"
    }
   }
  }
 ],
 "metadata": {
  "kernelspec": {
   "name": "pycharm-9b18c182",
   "language": "python",
   "display_name": "PyCharm (data_analysis)"
  },
  "language_info": {
   "codemirror_mode": {
    "name": "ipython",
    "version": 2
   },
   "file_extension": ".py",
   "mimetype": "text/x-python",
   "name": "python",
   "nbconvert_exporter": "python",
   "pygments_lexer": "ipython2",
   "version": "2.7.6"
  }
 },
 "nbformat": 4,
 "nbformat_minor": 0
}