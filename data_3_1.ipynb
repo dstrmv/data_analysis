{
 "cells": [
  {
   "cell_type": "code",
   "execution_count": 79,
   "metadata": {
    "collapsed": true
   },
   "outputs": [],
   "source": [
    "import pandas as pd\n",
    "import numpy as np\n",
    "from sklearn import preprocessing\n",
    "import math"
   ]
  },
  {
   "cell_type": "code",
   "execution_count": 80,
   "outputs": [
    {
     "data": {
      "text/plain": "    ID  DISTANCE  STOP_COUNT  COST\n0    1         9          11  26.9\n1    2         7           7  15.5\n2    3        13           5  30.2\n3    4         8           8  22.0\n4    5         6           6  25.0\n5    6        13           2  19.6\n6    7        24           4  21.8\n7    8        21          10  21.6\n8    9        21           1  20.0\n9   10         9           1  15.8\n10  11        16           8  27.1\n11  12        10           4  19.4\n12  13         8           7  30.1\n13  14         7           6  18.2\n14  15         9           5  16.0\n15  16        24          12  25.3\n16  17        22           3  16.1\n17  18        21           5  19.6\n18  19        21           3  17.3\n19  20         9           8  27.0",
      "text/html": "<div>\n<style scoped>\n    .dataframe tbody tr th:only-of-type {\n        vertical-align: middle;\n    }\n\n    .dataframe tbody tr th {\n        vertical-align: top;\n    }\n\n    .dataframe thead th {\n        text-align: right;\n    }\n</style>\n<table border=\"1\" class=\"dataframe\">\n  <thead>\n    <tr style=\"text-align: right;\">\n      <th></th>\n      <th>ID</th>\n      <th>DISTANCE</th>\n      <th>STOP_COUNT</th>\n      <th>COST</th>\n    </tr>\n  </thead>\n  <tbody>\n    <tr>\n      <th>0</th>\n      <td>1</td>\n      <td>9</td>\n      <td>11</td>\n      <td>26.9</td>\n    </tr>\n    <tr>\n      <th>1</th>\n      <td>2</td>\n      <td>7</td>\n      <td>7</td>\n      <td>15.5</td>\n    </tr>\n    <tr>\n      <th>2</th>\n      <td>3</td>\n      <td>13</td>\n      <td>5</td>\n      <td>30.2</td>\n    </tr>\n    <tr>\n      <th>3</th>\n      <td>4</td>\n      <td>8</td>\n      <td>8</td>\n      <td>22.0</td>\n    </tr>\n    <tr>\n      <th>4</th>\n      <td>5</td>\n      <td>6</td>\n      <td>6</td>\n      <td>25.0</td>\n    </tr>\n    <tr>\n      <th>5</th>\n      <td>6</td>\n      <td>13</td>\n      <td>2</td>\n      <td>19.6</td>\n    </tr>\n    <tr>\n      <th>6</th>\n      <td>7</td>\n      <td>24</td>\n      <td>4</td>\n      <td>21.8</td>\n    </tr>\n    <tr>\n      <th>7</th>\n      <td>8</td>\n      <td>21</td>\n      <td>10</td>\n      <td>21.6</td>\n    </tr>\n    <tr>\n      <th>8</th>\n      <td>9</td>\n      <td>21</td>\n      <td>1</td>\n      <td>20.0</td>\n    </tr>\n    <tr>\n      <th>9</th>\n      <td>10</td>\n      <td>9</td>\n      <td>1</td>\n      <td>15.8</td>\n    </tr>\n    <tr>\n      <th>10</th>\n      <td>11</td>\n      <td>16</td>\n      <td>8</td>\n      <td>27.1</td>\n    </tr>\n    <tr>\n      <th>11</th>\n      <td>12</td>\n      <td>10</td>\n      <td>4</td>\n      <td>19.4</td>\n    </tr>\n    <tr>\n      <th>12</th>\n      <td>13</td>\n      <td>8</td>\n      <td>7</td>\n      <td>30.1</td>\n    </tr>\n    <tr>\n      <th>13</th>\n      <td>14</td>\n      <td>7</td>\n      <td>6</td>\n      <td>18.2</td>\n    </tr>\n    <tr>\n      <th>14</th>\n      <td>15</td>\n      <td>9</td>\n      <td>5</td>\n      <td>16.0</td>\n    </tr>\n    <tr>\n      <th>15</th>\n      <td>16</td>\n      <td>24</td>\n      <td>12</td>\n      <td>25.3</td>\n    </tr>\n    <tr>\n      <th>16</th>\n      <td>17</td>\n      <td>22</td>\n      <td>3</td>\n      <td>16.1</td>\n    </tr>\n    <tr>\n      <th>17</th>\n      <td>18</td>\n      <td>21</td>\n      <td>5</td>\n      <td>19.6</td>\n    </tr>\n    <tr>\n      <th>18</th>\n      <td>19</td>\n      <td>21</td>\n      <td>3</td>\n      <td>17.3</td>\n    </tr>\n    <tr>\n      <th>19</th>\n      <td>20</td>\n      <td>9</td>\n      <td>8</td>\n      <td>27.0</td>\n    </tr>\n  </tbody>\n</table>\n</div>"
     },
     "execution_count": 80,
     "metadata": {},
     "output_type": "execute_result"
    }
   ],
   "source": [
    "csv_path = \"data/3_1/data.csv\"\n",
    "\n",
    "df = pd.read_csv(csv_path, sep=';')\n",
    "\n",
    "df"
   ],
   "metadata": {
    "collapsed": false,
    "pycharm": {
     "name": "#%%\n"
    }
   }
  },
  {
   "cell_type": "code",
   "execution_count": 81,
   "outputs": [],
   "source": [
    "min_dist = df.DISTANCE.min()\n",
    "min_stop = df.STOP_COUNT.min()\n",
    "min_cost = df.COST.min()"
   ],
   "metadata": {
    "collapsed": false,
    "pycharm": {
     "name": "#%%\n"
    }
   }
  },
  {
   "cell_type": "code",
   "execution_count": 84,
   "outputs": [
    {
     "data": {
      "text/plain": "   ID  DISTANCE  STOP_COUNT  COST  DISTANCE_EXP_NORM  STOP_COUNT_EXP_NORM  \\\n9  10         9           1  15.8           0.393469             0.000000   \n1   2         7           7  15.5           0.153518             0.997521   \n8   9        21           1  20.0           0.917915             0.000000   \n\n   COST_EXP_NORM       SUM  \n9       0.019169  0.412638  \n1       0.000000  1.151040  \n8       0.251978  1.169893  ",
      "text/html": "<div>\n<style scoped>\n    .dataframe tbody tr th:only-of-type {\n        vertical-align: middle;\n    }\n\n    .dataframe tbody tr th {\n        vertical-align: top;\n    }\n\n    .dataframe thead th {\n        text-align: right;\n    }\n</style>\n<table border=\"1\" class=\"dataframe\">\n  <thead>\n    <tr style=\"text-align: right;\">\n      <th></th>\n      <th>ID</th>\n      <th>DISTANCE</th>\n      <th>STOP_COUNT</th>\n      <th>COST</th>\n      <th>DISTANCE_EXP_NORM</th>\n      <th>STOP_COUNT_EXP_NORM</th>\n      <th>COST_EXP_NORM</th>\n      <th>SUM</th>\n    </tr>\n  </thead>\n  <tbody>\n    <tr>\n      <th>9</th>\n      <td>10</td>\n      <td>9</td>\n      <td>1</td>\n      <td>15.8</td>\n      <td>0.393469</td>\n      <td>0.000000</td>\n      <td>0.019169</td>\n      <td>0.412638</td>\n    </tr>\n    <tr>\n      <th>1</th>\n      <td>2</td>\n      <td>7</td>\n      <td>7</td>\n      <td>15.5</td>\n      <td>0.153518</td>\n      <td>0.997521</td>\n      <td>0.000000</td>\n      <td>1.151040</td>\n    </tr>\n    <tr>\n      <th>8</th>\n      <td>9</td>\n      <td>21</td>\n      <td>1</td>\n      <td>20.0</td>\n      <td>0.917915</td>\n      <td>0.000000</td>\n      <td>0.251978</td>\n      <td>1.169893</td>\n    </tr>\n  </tbody>\n</table>\n</div>"
     },
     "execution_count": 84,
     "metadata": {},
     "output_type": "execute_result"
    }
   ],
   "source": [
    "df['DISTANCE_EXP_NORM'] = df['DISTANCE'].apply(lambda x: 1.0 - math.exp(1.0 - x / min_dist))\n",
    "df['STOP_COUNT_EXP_NORM'] = df['STOP_COUNT'].apply(lambda x: 1.0 - math.exp(1.0 - x / min_stop))\n",
    "df['COST_EXP_NORM'] = df['COST'].apply(lambda x: 1.0 - math.exp(1.0 - x / min_cost))\n",
    "df['SUM'] = df[['DISTANCE_EXP_NORM', 'STOP_COUNT_EXP_NORM', 'COST_EXP_NORM']].sum(axis=1)\n",
    "df.sort_values('SUM', inplace=True)\n",
    "df.head(3)"
   ],
   "metadata": {
    "collapsed": false,
    "pycharm": {
     "name": "#%%\n"
    }
   }
  }
 ],
 "metadata": {
  "kernelspec": {
   "name": "pycharm-9b18c182",
   "language": "python",
   "display_name": "PyCharm (data_analysis)"
  },
  "language_info": {
   "codemirror_mode": {
    "name": "ipython",
    "version": 2
   },
   "file_extension": ".py",
   "mimetype": "text/x-python",
   "name": "python",
   "nbconvert_exporter": "python",
   "pygments_lexer": "ipython2",
   "version": "2.7.6"
  }
 },
 "nbformat": 4,
 "nbformat_minor": 0
}